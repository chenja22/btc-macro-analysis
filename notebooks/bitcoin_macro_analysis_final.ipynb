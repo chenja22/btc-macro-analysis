{
 "cells": [
  {
   "cell_type": "markdown",
   "id": "8e2e8eab",
   "metadata": {},
   "source": [
    "# Bitcoin Macro Analysis Visualized"
   ]
  },
  {
   "cell_type": "code",
   "execution_count": 2,
   "id": "8b4ee7fd",
   "metadata": {},
   "outputs": [],
   "source": [
    "\n",
    "import pandas as pd\n",
    "import numpy as np\n",
    "import statsmodels.api as sm\n"
   ]
  },
  {
   "cell_type": "code",
   "execution_count": 3,
   "id": "abaae168",
   "metadata": {},
   "outputs": [],
   "source": [
    "\n",
    "# Load BTC Data\n",
    "btc_control = pd.read_csv(\"../data/btc_control_period_clean.csv\", parse_dates=[\"date\"])\n",
    "btc_event = pd.read_csv(\"../data/btc_event_period_clean.csv\", parse_dates=[\"date\"])\n",
    "\n",
    "btc_control['log_return'] = np.log(btc_control['close'] / btc_control['close'].shift(1))\n",
    "btc_event['log_return'] = np.log(btc_event['close'] / btc_event['close'].shift(1))\n",
    "\n",
    "btc_all = pd.concat([btc_control, btc_event])\n",
    "btc_all['event_period'] = btc_all['date'].apply(lambda d: 1 if d in btc_event['date'].values else 0)\n"
   ]
  },
  {
   "cell_type": "code",
   "execution_count": 4,
   "id": "6556a17a",
   "metadata": {},
   "outputs": [],
   "source": [
    "\n",
    "# Load SP500 and VIX data\n",
    "sp500_control = pd.read_csv(\"../data/sp500_control_period_clean.csv\", parse_dates=[\"date\"])\n",
    "sp500_event = pd.read_csv(\"../data/sp500_event_period_clean.csv\", parse_dates=[\"date\"])\n",
    "sp500_all = pd.concat([sp500_control, sp500_event])\n",
    "sp500_all.rename(columns={\"close\": \"sp500_close\"}, inplace=True)\n",
    "sp500_all['sp500_return'] = sp500_all['sp500_close'].pct_change()\n",
    "\n",
    "vix_control = pd.read_csv(\"../data/vix_control_period_clean.csv\", parse_dates=[\"date\"])\n",
    "vix_event = pd.read_csv(\"../data/vix_event_period_clean.csv\", parse_dates=[\"date\"])\n",
    "vix_all = pd.concat([vix_control, vix_event])\n",
    "vix_all.rename(columns={\"close\": \"vix_close\"}, inplace=True)\n",
    "vix_all['vix_change'] = vix_all['vix_close'].pct_change()\n"
   ]
  },
  {
   "cell_type": "code",
   "execution_count": 5,
   "id": "01423b3d",
   "metadata": {},
   "outputs": [],
   "source": [
    "\n",
    "# Load Treasury yield data\n",
    "treasury_control = pd.read_csv(\"../data/treasury_yield_control_period_clean.csv\", parse_dates=[\"date\"])\n",
    "treasury_event = pd.read_csv(\"../data/treasury_yield_event_period_clean.csv\", parse_dates=[\"date\"])\n",
    "treasury_all = pd.concat([treasury_control, treasury_event])\n",
    "treasury_all['yield_change'] = treasury_all['treasury_yield'].diff()\n"
   ]
  },
  {
   "cell_type": "code",
   "execution_count": 6,
   "id": "fc6c8295",
   "metadata": {},
   "outputs": [],
   "source": [
    "\n",
    "# Merge into final dataset\n",
    "btc_all = btc_all.merge(sp500_all[['date', 'sp500_return']], on='date', how='left')\n",
    "btc_all = btc_all.merge(vix_all[['date', 'vix_change']], on='date', how='left')\n",
    "btc_all = btc_all.merge(treasury_all[['date', 'yield_change']], on='date', how='left')\n",
    "btc_all.dropna(subset=['log_return', 'sp500_return', 'vix_change', 'yield_change'], inplace=True)\n"
   ]
  },
  {
   "cell_type": "code",
   "execution_count": 7,
   "id": "5a507a7c",
   "metadata": {},
   "outputs": [
    {
     "name": "stdout",
     "output_type": "stream",
     "text": [
      "                            OLS Regression Results                            \n",
      "==============================================================================\n",
      "Dep. Variable:             log_return   R-squared:                       0.299\n",
      "Model:                            OLS   Adj. R-squared:                  0.227\n",
      "Method:                 Least Squares   F-statistic:                     4.165\n",
      "Date:                Fri, 21 Mar 2025   Prob (F-statistic):            0.00664\n",
      "Time:                        00:18:48   Log-Likelihood:                 102.37\n",
      "No. Observations:                  44   AIC:                            -194.7\n",
      "Df Residuals:                      39   BIC:                            -185.8\n",
      "Df Model:                           4                                         \n",
      "Covariance Type:            nonrobust                                         \n",
      "================================================================================\n",
      "                   coef    std err          t      P>|t|      [0.025      0.975]\n",
      "--------------------------------------------------------------------------------\n",
      "const            0.0015      0.005      0.283      0.779      -0.009       0.013\n",
      "event_period     0.0065      0.008      0.831      0.411      -0.009       0.022\n",
      "sp500_return     1.6765      0.658      2.549      0.015       0.346       3.007\n",
      "vix_change      -0.0199      0.111     -0.179      0.859      -0.245       0.205\n",
      "yield_change    -0.1054      0.060     -1.757      0.087      -0.227       0.016\n",
      "==============================================================================\n",
      "Omnibus:                        0.572   Durbin-Watson:                   2.336\n",
      "Prob(Omnibus):                  0.751   Jarque-Bera (JB):                0.259\n",
      "Skew:                           0.187   Prob(JB):                        0.878\n",
      "Kurtosis:                       3.036   Cond. No.                         201.\n",
      "==============================================================================\n",
      "\n",
      "Notes:\n",
      "[1] Standard Errors assume that the covariance matrix of the errors is correctly specified.\n"
     ]
    }
   ],
   "source": [
    "\n",
    "# Run Difference-in-Differences regression\n",
    "X = sm.add_constant(btc_all[['event_period', 'sp500_return', 'vix_change', 'yield_change']])\n",
    "y = btc_all['log_return']\n",
    "\n",
    "model = sm.OLS(y, X)\n",
    "results = model.fit()\n",
    "print(results.summary())\n"
   ]
  }
 ],
 "metadata": {
  "kernelspec": {
   "display_name": "venv",
   "language": "python",
   "name": "python3"
  },
  "language_info": {
   "codemirror_mode": {
    "name": "ipython",
    "version": 3
   },
   "file_extension": ".py",
   "mimetype": "text/x-python",
   "name": "python",
   "nbconvert_exporter": "python",
   "pygments_lexer": "ipython3",
   "version": "3.13.2"
  }
 },
 "nbformat": 4,
 "nbformat_minor": 5
}
